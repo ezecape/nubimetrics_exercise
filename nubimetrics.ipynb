{
 "cells": [
  {
   "cell_type": "markdown",
   "metadata": {},
   "source": [
    "#DECISIONES TOMADAS PARA EL ANALISIS\n",
    "1 -Buscar un listado en internet con las marcas de celular mas conocidas. REF: MercadoLibre\n",
    "2 -Buscar en la columna 'title' si se hace referencia a una de estas marcas, entonces generar en una columna adicional 'brand' marcando estas referencias.\n",
    "la marca a la que hace referncia el titulo de la publicacion. Para los titulos que no posean ninguna de esta marca, se añade una marca 'otros'\n",
    "3 -Se pretende que el listado de marcas tenga alrededor de 20 referencias. Para una busqueda mas exhaustiva de las posibles \n",
    "marcas refernciadas en los titulos, analizar palabras repetidas de aquellos titulos que tengan como marca 'otros'.\n",
    "4 -Se busca repetir el punto 3 de busqueda de nuevas marcas hasta llegar a el numero de 20 marcas diferentes. Incluyendo 'otros'. Es importante tambien que el porcentaje de ocurrencia de 'brand' = 'otros' sea menor al 10% de las publiciones."
   ]
  },
  {
   "cell_type": "code",
   "execution_count": 1,
   "metadata": {},
   "outputs": [],
   "source": [
    "import pandas as pd"
   ]
  },
  {
   "cell_type": "code",
   "execution_count": 2,
   "metadata": {},
   "outputs": [],
   "source": [
    "cellphoneslisting = pd.read_csv('cellphoneslisting.csv',sep='\\x01')"
   ]
  },
  {
   "cell_type": "code",
   "execution_count": 20,
   "metadata": {},
   "outputs": [],
   "source": [
    "def brand(title):\n",
    "    if title.lower().find('samsung') != - 1 or title.lower().find('galaxy') != - 1:\n",
    "        return 'samsung'\n",
    "    elif title.lower().find('apple') != - 1 or title.lower().find('iphone') != - 1:\n",
    "        return 'apple'\n",
    "    elif title.lower().find('lg') != - 1:\n",
    "        return 'lg'\n",
    "    elif title.lower().find('sony') != - 1:\n",
    "        return 'sony'\n",
    "    elif title.lower().find('blackberry') != - 1:\n",
    "        return 'blackberry'\n",
    "    elif title.lower().find('alcatel') != - 1:\n",
    "        return 'alcatel'\n",
    "    elif title.lower().find('xiaomi') != - 1:\n",
    "        return 'xiaomi'\n",
    "    elif title.lower().find('alcatel') != - 1:\n",
    "        return 'alcatel'\n",
    "    elif title.lower().find('nokia') != - 1:\n",
    "        return 'nokia'\n",
    "    elif title.lower().find('huawei') != - 1:\n",
    "        return 'huawei'\n",
    "    #palabra clave para motorola = moto\n",
    "    elif title.lower().find('moto') != - 1:\n",
    "        return 'motorola'\n",
    "    \n",
    "    #LISTADO ENCONTRADO BUSCANDO PALABRAS REPETIDAS\n",
    "    elif title.lower().find('blu') != - 1:\n",
    "        return 'blu'\n",
    "    elif title.lower().find('cat') != - 1:\n",
    "        return 'caterpillar'\n",
    "    elif title.lower().find('bgh') != - 1:\n",
    "        return 'bgh'\n",
    "    elif title.lower().find('tcl') != - 1:\n",
    "        return 'tcl'\n",
    "    elif title.lower().find('zte') != - 1:\n",
    "        return 'zte'\n",
    "    elif title.lower().find('hyundai') != - 1:\n",
    "        return 'hyundai'\n",
    "    elif title.lower().find('kodak') != - 1:\n",
    "        return 'kodak'\n",
    "    elif title.lower().find('quantum') != - 1:\n",
    "        return 'quantum'\n",
    "    elif title.lower().find('philips') != - 1:\n",
    "        return 'phipils'\n",
    "    elif title.lower().find('noblex') != - 1:\n",
    "        return 'noblex'\n",
    "    else:\n",
    "        return 'otros'        "
   ]
  },
  {
   "cell_type": "code",
   "execution_count": 21,
   "metadata": {},
   "outputs": [],
   "source": [
    "cellphoneslisting[\"brand\"]=cellphoneslisting[\"title\"].apply(marca)"
   ]
  },
  {
   "cell_type": "code",
   "execution_count": 5,
   "metadata": {},
   "outputs": [],
   "source": [
    "#REPETIR PASOS PARA ENCONTRAR POSIBLES \"BRANDS\""
   ]
  },
  {
   "cell_type": "code",
   "execution_count": 22,
   "metadata": {},
   "outputs": [],
   "source": [
    "#PASO1: Obtener todos los titulos cuya marca sera 'otros'\n",
    "otros = cellphoneslisting.loc[cellphoneslisting['brand']=='otros'][\"title\"]"
   ]
  },
  {
   "cell_type": "code",
   "execution_count": 23,
   "metadata": {},
   "outputs": [],
   "source": [
    "#PASO2: Separar las palabras de la columna title\n",
    "palabras = pd.Series(' '.join(otros).lower().split())"
   ]
  },
  {
   "cell_type": "code",
   "execution_count": 26,
   "metadata": {
    "scrolled": true
   },
   "outputs": [],
   "source": [
    "#PASO3: Identificar marcas entre las 50 palabras mas repetidas de los \"title\" no categorizados.\n",
    "analisis_repeticiones = palabras.value_counts()[:50]\n",
    "#print(analisis_repeticiones)"
   ]
  },
  {
   "cell_type": "code",
   "execution_count": 9,
   "metadata": {},
   "outputs": [],
   "source": [
    "#Listar Marcas \"Otros\"\n",
    "#cellphoneslisting.loc[cellphoneslisting['marca']=='otros']"
   ]
  },
  {
   "cell_type": "code",
   "execution_count": 10,
   "metadata": {
    "scrolled": false
   },
   "outputs": [],
   "source": [
    "#20 marcas mas predominantes\n",
    "\n",
    "resultado = cellphoneslisting.groupby('brand')[['sales','unit_sales']].sum().reset_index(0).sort_values(by=['sales','unit_sales'],ascending= False)"
   ]
  },
  {
   "cell_type": "code",
   "execution_count": 14,
   "metadata": {},
   "outputs": [],
   "source": [
    "resultado.to_csv('resultado.csv',index=False)"
   ]
  },
  {
   "cell_type": "code",
   "execution_count": 25,
   "metadata": {},
   "outputs": [
    {
     "data": {
      "text/plain": [
       "samsung        24.166049\n",
       "xiaomi         19.471213\n",
       "motorola       16.975537\n",
       "huawei          6.795157\n",
       "apple           6.251544\n",
       "otros           5.460835\n",
       "lg              4.941932\n",
       "blu             3.558191\n",
       "nokia           2.470966\n",
       "caterpillar     2.223870\n",
       "sony            1.877934\n",
       "alcatel         1.359031\n",
       "quantum         0.716580\n",
       "hyundai         0.691871\n",
       "tcl             0.691871\n",
       "bgh             0.494193\n",
       "kodak           0.469484\n",
       "blackberry      0.444774\n",
       "phipils         0.370645\n",
       "noblex          0.321226\n",
       "zte             0.247097\n",
       "Name: marca, dtype: float64"
      ]
     },
     "execution_count": 25,
     "metadata": {},
     "output_type": "execute_result"
    }
   ],
   "source": [
    "#Chequear el porcentaje de ocurrencia de cada \n",
    "#cellphoneslisting[\"brand\"].value_counts(normalize=True)*100"
   ]
  }
 ],
 "metadata": {
  "kernelspec": {
   "display_name": "Python 2",
   "language": "python",
   "name": "python2"
  },
  "language_info": {
   "codemirror_mode": {
    "name": "ipython",
    "version": 2
   },
   "file_extension": ".py",
   "mimetype": "text/x-python",
   "name": "python",
   "nbconvert_exporter": "python",
   "pygments_lexer": "ipython2",
   "version": "2.7.15"
  }
 },
 "nbformat": 4,
 "nbformat_minor": 2
}
